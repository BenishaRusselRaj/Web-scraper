{
  "nbformat": 4,
  "nbformat_minor": 0,
  "metadata": {
    "colab": {
      "provenance": [],
      "authorship_tag": "ABX9TyNoKjpFhw/O6TvnqJ9rvTpa",
      "include_colab_link": true
    },
    "kernelspec": {
      "name": "python3",
      "display_name": "Python 3"
    },
    "language_info": {
      "name": "python"
    }
  },
  "cells": [
    {
      "cell_type": "markdown",
      "metadata": {
        "id": "view-in-github",
        "colab_type": "text"
      },
      "source": [
        "<a href=\"https://colab.research.google.com/github/BenishaRusselRaj/Web-scraper/blob/main/Web_Scraping.ipynb\" target=\"_parent\"><img src=\"https://colab.research.google.com/assets/colab-badge.svg\" alt=\"Open In Colab\"/></a>"
      ]
    },
    {
      "cell_type": "code",
      "execution_count": 2,
      "metadata": {
        "id": "HGbJ31D89HF4",
        "colab": {
          "base_uri": "https://localhost:8080/"
        },
        "outputId": "ca6052f7-cc05-44c0-f1c3-4ec701554ddd"
      },
      "outputs": [
        {
          "output_type": "stream",
          "name": "stdout",
          "text": [
            "<title>Countries of the World: A Simple Example | Scrape This Site | A public sandbox for learning web scraping</title>\n"
          ]
        }
      ],
      "source": [
        "import requests\n",
        "from bs4 import BeautifulSoup as bsp\n",
        "\n",
        "url = \"https://www.scrapethissite.com/pages/simple/\"\n",
        "headers = {'User-Agent' : 'Mozilla/5.0'} # for chrome browser\n",
        "\n",
        "page = requests.get(url)\n",
        "text = bsp(page.text, \"html.parser\")\n",
        "\n",
        "#print(text)\n",
        "print(text.title)\n",
        "\n"
      ]
    },
    {
      "cell_type": "markdown",
      "source": [
        "Reference:\\\n",
        "https://stackoverflow.com/questions/41214965/python-3-5-urllib-request-403-forbidden-error?noredirect=1&lq=1\n",
        "\n",
        "https://realpython.com/python-web-scraping-practical-introduction/\n",
        "\n",
        "**Note: Other Library that can be used is urllib*"
      ],
      "metadata": {
        "id": "lDKZwKGvpHJA"
      }
    },
    {
      "cell_type": "code",
      "source": [
        "soup = bsp('<html>data<\\html>')\n",
        "\n",
        "print (soup)"
      ],
      "metadata": {
        "id": "d-SsEHUppP_R",
        "colab": {
          "base_uri": "https://localhost:8080/"
        },
        "outputId": "36841865-ce22-4913-93ea-bfbe2463649c"
      },
      "execution_count": 3,
      "outputs": [
        {
          "output_type": "stream",
          "name": "stdout",
          "text": [
            "<html><body><p>data&lt;\\html&gt;</p></body></html>\n"
          ]
        }
      ]
    }
  ]
}